{
 "cells": [
  {
   "cell_type": "markdown",
   "id": "326c68ea-e534-4c7b-92cd-b152e2ab28f3",
   "metadata": {},
   "source": [
    "# Scraping Intro Homework: Wikipedia Table\n",
    "\n",
    "In this assignment, we'll be extracting data from Wikipedia's table of the tallest buildings in Brooklyn: https://en.wikipedia.org/wiki/List_of_tallest_buildings_in_Brooklyn"
   ]
  },
  {
   "cell_type": "markdown",
   "id": "ee21190f-85e3-411c-ab91-a394747c6ee3",
   "metadata": {},
   "source": [
    "### 0) Setup\n",
    "\n",
    "Import `requests`, `BeautifulSoup`, and `pandas`. Although this homework uses `BeautifulSoup`, you can choose to use `lxml` instead, if you prefer."
   ]
  },
  {
   "cell_type": "code",
   "execution_count": 1,
   "id": "ac4bb8ca-0a2e-4880-93a1-781d725b7c8b",
   "metadata": {},
   "outputs": [],
   "source": [
    "import requests\n",
    "from bs4 import BeautifulSoup\n",
    "import pandas as pd"
   ]
  },
  {
   "cell_type": "markdown",
   "id": "1057c416-4fe6-435c-9feb-aee4ee3e1d4e",
   "metadata": {},
   "source": [
    "### 1) Grab the HTML for the webpage linked above\n",
    "\n",
    "Use `requests` to get the HTML, assigning it to a variable"
   ]
  },
  {
   "cell_type": "code",
   "execution_count": 2,
   "id": "249f7c7c-f999-45a4-bbd1-553d08ecb6f3",
   "metadata": {},
   "outputs": [],
   "source": [
    "url = \"https://en.wikipedia.org/wiki/List_of_tallest_buildings_in_Brooklyn\"\n",
    "html = requests.get(url).text"
   ]
  },
  {
   "cell_type": "markdown",
   "id": "92457832-c428-42dc-9f57-7dd9d037856b",
   "metadata": {},
   "source": [
    "### 2) Convert the HTML into a `BeautifulSoup` object"
   ]
  },
  {
   "cell_type": "code",
   "execution_count": 3,
   "id": "31b1c404-b7dc-4842-bd13-c75e77b51477",
   "metadata": {},
   "outputs": [],
   "source": [
    "soup = BeautifulSoup(html)"
   ]
  },
  {
   "cell_type": "markdown",
   "id": "a5c1fd45-4005-48d7-bca2-c8c523b1c060",
   "metadata": {},
   "source": [
    "### 3) Use `.select(...)` (and `[0]`) to select the main table\n",
    "\n",
    "That's the one directly under the \"Tallest buildings\" heading.\n",
    "\n",
    "Print out the first 100 characters of text from the table to make sure you have the right one."
   ]
  },
  {
   "cell_type": "code",
   "execution_count": 4,
   "id": "e7791e7f-c6f3-4f2a-bd7e-b55c3b40022d",
   "metadata": {},
   "outputs": [
    {
     "name": "stdout",
     "output_type": "stream",
     "text": [
      "\n",
      "\n",
      "Rank\n",
      "\n",
      "Name[a]\n",
      "\n",
      "Image\n",
      "\n",
      "Heightft (m)\n",
      "\n",
      "Floors\n",
      "\n",
      "Year completed\n",
      "\n",
      "Notes\n",
      "\n",
      "\n",
      "1\n",
      "\n",
      "The Brooklyn Tower\n",
      "\n",
      "\n",
      "\n",
      "1,073\n"
     ]
    }
   ],
   "source": [
    "table = soup.select(\"table.wikitable\")[0]\n",
    "print(table.text[:100])"
   ]
  },
  {
   "cell_type": "markdown",
   "id": "e4181ff2-64d6-47e7-8cb0-4bcb453b5a24",
   "metadata": {},
   "source": [
    "### 4) Use `.select(...)` (and `[0]`) again to select the table's first row\n",
    "\n",
    "... which is its header. (Reminder that the `<thead>` tag is optional. Wikipedia tables don't use it.)"
   ]
  },
  {
   "cell_type": "code",
   "execution_count": 5,
   "id": "073e34ce-0836-4657-a4ea-2b22c8deb4ab",
   "metadata": {},
   "outputs": [],
   "source": [
    "header_el = table.select(\"tr\")[0]"
   ]
  },
  {
   "cell_type": "markdown",
   "id": "10dec4f1-86fa-4776-8964-468aebe36b6a",
   "metadata": {},
   "source": [
    "### 5) Extract the column names from that header\n",
    "\n",
    "Use `.strip()` to remove any leading or trailing whitespace from the names.\n",
    "\n",
    "First, try doing this with a standard `for` loop:"
   ]
  },
  {
   "cell_type": "code",
   "execution_count": 6,
   "id": "fc38e978-2079-4fe7-bd4e-e4dc20cba4d4",
   "metadata": {},
   "outputs": [
    {
     "data": {
      "text/plain": [
       "['Rank',\n",
       " 'Name[a]',\n",
       " 'Image',\n",
       " 'Heightft (m)',\n",
       " 'Floors',\n",
       " 'Year completed',\n",
       " 'Notes']"
      ]
     },
     "execution_count": 6,
     "metadata": {},
     "output_type": "execute_result"
    }
   ],
   "source": [
    "columns = []\n",
    "for cell in header_el.select(\"th\"):\n",
    "     columns.append(cell.text.strip())\n",
    "        \n",
    "columns"
   ]
  },
  {
   "cell_type": "markdown",
   "id": "226f4125",
   "metadata": {},
   "source": [
    "Now try to do it with a list comprehension:"
   ]
  },
  {
   "cell_type": "code",
   "execution_count": 7,
   "id": "999fbfb0",
   "metadata": {},
   "outputs": [
    {
     "data": {
      "text/plain": [
       "['Rank',\n",
       " 'Name[a]',\n",
       " 'Image',\n",
       " 'Heightft (m)',\n",
       " 'Floors',\n",
       " 'Year completed',\n",
       " 'Notes']"
      ]
     },
     "execution_count": 7,
     "metadata": {},
     "output_type": "execute_result"
    }
   ],
   "source": [
    "columns = [ cell.text.strip()\n",
    "    for cell in header_el.select(\"th\") ]\n",
    "\n",
    "columns"
   ]
  },
  {
   "cell_type": "markdown",
   "id": "1c90e4fa-fb91-4cc4-bf2d-84d692bfc9b2",
   "metadata": {},
   "source": [
    "### 6) Select all non-header row *elements* from the table\n",
    "\n",
    "Since the header was the first row, you'll want to skip that one. How many rows are there? (Check with your eyes that this number matches what you deduce from the rankings column in the browser-rendered table.)"
   ]
  },
  {
   "cell_type": "code",
   "execution_count": 8,
   "id": "d0e982d7-4657-4ed3-ae4b-cf3e900c2763",
   "metadata": {},
   "outputs": [
    {
     "data": {
      "text/plain": [
       "73"
      ]
     },
     "execution_count": 8,
     "metadata": {},
     "output_type": "execute_result"
    }
   ],
   "source": [
    "row_els = table.select(\"tr\")[1:]\n",
    "len(row_els)"
   ]
  },
  {
   "cell_type": "markdown",
   "id": "ae6ed103-7aa1-4d24-9842-20a7c51eb1f4",
   "metadata": {},
   "source": [
    "### 7) For each row, extract the text of each cell into a Python list\n",
    "\n",
    "First, try this as two nested `for` loops:"
   ]
  },
  {
   "cell_type": "code",
   "execution_count": 9,
   "id": "7cb57508",
   "metadata": {},
   "outputs": [
    {
     "data": {
      "text/plain": [
       "[['1',\n",
       "  'The Brooklyn Tower',\n",
       "  '',\n",
       "  '1,073 (327)',\n",
       "  '93',\n",
       "  '2022',\n",
       "  'Topped out in October 2021.[2][22][23][24]'],\n",
       " ['2',\n",
       "  'Brooklyn Point',\n",
       "  '',\n",
       "  '720 (219)',\n",
       "  '68',\n",
       "  '2019',\n",
       "  \"The final phase of Extell's City Point development; topped out in April 2019, it is now the second tallest building in Brooklyn.[25] Also known as 138 Willoughby Street,[26][27] 1 City Point,[28] and City Point Tower III.[28][29][30]\"]]"
      ]
     },
     "execution_count": 9,
     "metadata": {},
     "output_type": "execute_result"
    }
   ],
   "source": [
    "rows = []\n",
    "\n",
    "for row in row_els:\n",
    "    cells = []\n",
    "    for cell in row.select(\"td\"):\n",
    "        cells.append(cell.text.strip())\n",
    "    rows.append(cells)\n",
    "    \n",
    "rows[:2]"
   ]
  },
  {
   "cell_type": "markdown",
   "id": "5c75cc42",
   "metadata": {},
   "source": [
    "Now try with two list comprehensions, one nested in the other:"
   ]
  },
  {
   "cell_type": "code",
   "execution_count": 10,
   "id": "977867a9-10b6-4fab-b6e4-dfb4b57d3f56",
   "metadata": {},
   "outputs": [
    {
     "data": {
      "text/plain": [
       "[['1',\n",
       "  'The Brooklyn Tower',\n",
       "  '',\n",
       "  '1,073 (327)',\n",
       "  '93',\n",
       "  '2022',\n",
       "  'Topped out in October 2021.[2][22][23][24]'],\n",
       " ['2',\n",
       "  'Brooklyn Point',\n",
       "  '',\n",
       "  '720 (219)',\n",
       "  '68',\n",
       "  '2019',\n",
       "  \"The final phase of Extell's City Point development; topped out in April 2019, it is now the second tallest building in Brooklyn.[25] Also known as 138 Willoughby Street,[26][27] 1 City Point,[28] and City Point Tower III.[28][29][30]\"]]"
      ]
     },
     "execution_count": 10,
     "metadata": {},
     "output_type": "execute_result"
    }
   ],
   "source": [
    "rows = [\n",
    "    [ cell.text.strip() for cell in row.select(\"td\") ]\n",
    "    for row in row_els ]\n",
    "\n",
    "rows[:2]"
   ]
  },
  {
   "cell_type": "markdown",
   "id": "e8a5c07b-c3c3-40c2-8aeb-9a3f1e62a207",
   "metadata": {},
   "source": [
    "### 8) Turn the data you've extracted into a `pandas` `DataFrame`"
   ]
  },
  {
   "cell_type": "code",
   "execution_count": 11,
   "id": "0a907b1b-4e45-4ad6-af9e-c95d872803d1",
   "metadata": {},
   "outputs": [
    {
     "data": {
      "text/html": [
       "<div>\n",
       "<style scoped>\n",
       "    .dataframe tbody tr th:only-of-type {\n",
       "        vertical-align: middle;\n",
       "    }\n",
       "\n",
       "    .dataframe tbody tr th {\n",
       "        vertical-align: top;\n",
       "    }\n",
       "\n",
       "    .dataframe thead th {\n",
       "        text-align: right;\n",
       "    }\n",
       "</style>\n",
       "<table border=\"1\" class=\"dataframe\">\n",
       "  <thead>\n",
       "    <tr style=\"text-align: right;\">\n",
       "      <th></th>\n",
       "      <th>Rank</th>\n",
       "      <th>Name[a]</th>\n",
       "      <th>Image</th>\n",
       "      <th>Heightft (m)</th>\n",
       "      <th>Floors</th>\n",
       "      <th>Year completed</th>\n",
       "      <th>Notes</th>\n",
       "    </tr>\n",
       "  </thead>\n",
       "  <tbody>\n",
       "    <tr>\n",
       "      <th>0</th>\n",
       "      <td>1</td>\n",
       "      <td>The Brooklyn Tower</td>\n",
       "      <td></td>\n",
       "      <td>1,073 (327)</td>\n",
       "      <td>93</td>\n",
       "      <td>2022</td>\n",
       "      <td>Topped out in October 2021.[2][22][23][24]</td>\n",
       "    </tr>\n",
       "    <tr>\n",
       "      <th>1</th>\n",
       "      <td>2</td>\n",
       "      <td>Brooklyn Point</td>\n",
       "      <td></td>\n",
       "      <td>720 (219)</td>\n",
       "      <td>68</td>\n",
       "      <td>2019</td>\n",
       "      <td>The final phase of Extell's City Point develop...</td>\n",
       "    </tr>\n",
       "    <tr>\n",
       "      <th>2</th>\n",
       "      <td>3</td>\n",
       "      <td>11 Hoyt</td>\n",
       "      <td></td>\n",
       "      <td>626 (191)</td>\n",
       "      <td>51</td>\n",
       "      <td>2020</td>\n",
       "      <td>Topped out in June 2019.[31] A redevelopment o...</td>\n",
       "    </tr>\n",
       "    <tr>\n",
       "      <th>3</th>\n",
       "      <td>4</td>\n",
       "      <td>The Hub</td>\n",
       "      <td></td>\n",
       "      <td>611 (186)</td>\n",
       "      <td>52</td>\n",
       "      <td>2017</td>\n",
       "      <td>Also known as 333 Schermerhorn Street. Topped ...</td>\n",
       "    </tr>\n",
       "    <tr>\n",
       "      <th>4</th>\n",
       "      <td>5</td>\n",
       "      <td>AVA DoBro</td>\n",
       "      <td></td>\n",
       "      <td>596 (182)</td>\n",
       "      <td>58</td>\n",
       "      <td>2015</td>\n",
       "      <td>Also known as 100 Willoughby Street, Avalon Wi...</td>\n",
       "    </tr>\n",
       "  </tbody>\n",
       "</table>\n",
       "</div>"
      ],
      "text/plain": [
       "  Rank             Name[a] Image Heightft (m) Floors Year completed  \\\n",
       "0    1  The Brooklyn Tower        1,073 (327)     93           2022   \n",
       "1    2      Brooklyn Point          720 (219)     68           2019   \n",
       "2    3             11 Hoyt          626 (191)     51           2020   \n",
       "3    4             The Hub          611 (186)     52           2017   \n",
       "4    5           AVA DoBro          596 (182)     58           2015   \n",
       "\n",
       "                                               Notes  \n",
       "0         Topped out in October 2021.[2][22][23][24]  \n",
       "1  The final phase of Extell's City Point develop...  \n",
       "2  Topped out in June 2019.[31] A redevelopment o...  \n",
       "3  Also known as 333 Schermerhorn Street. Topped ...  \n",
       "4  Also known as 100 Willoughby Street, Avalon Wi...  "
      ]
     },
     "execution_count": 11,
     "metadata": {},
     "output_type": "execute_result"
    }
   ],
   "source": [
    "buildings = pd.DataFrame(rows, columns=columns)\n",
    "buildings.head()"
   ]
  },
  {
   "cell_type": "markdown",
   "id": "536492f4-69f9-49ca-b22e-ce2d8beb85b6",
   "metadata": {},
   "source": [
    "### 9) Which years are represented by at least 5 buildings?"
   ]
  },
  {
   "cell_type": "code",
   "execution_count": 12,
   "id": "62e51913-b5cc-4c26-a90f-fd82480d7568",
   "metadata": {},
   "outputs": [
    {
     "data": {
      "text/plain": [
       "Year completed\n",
       "2022    11\n",
       "2020     6\n",
       "2016     6\n",
       "Name: count, dtype: int64"
      ]
     },
     "execution_count": 12,
     "metadata": {},
     "output_type": "execute_result"
    }
   ],
   "source": [
    "(\n",
    "    buildings\n",
    "    [\"Year completed\"]\n",
    "    .value_counts()\n",
    "    .loc[lambda x: x >= 5]\n",
    ")"
   ]
  },
  {
   "cell_type": "markdown",
   "id": "a5ec3b84-1288-4e61-8f24-5e53b6490e73",
   "metadata": {},
   "source": [
    "### 10) How many total floors do all the buildings have, combined?"
   ]
  },
  {
   "cell_type": "code",
   "execution_count": 13,
   "id": "d595d942-ed04-45c3-b2f5-b0f8f02702a4",
   "metadata": {},
   "outputs": [
    {
     "data": {
      "text/plain": [
       "2603"
      ]
     },
     "execution_count": 13,
     "metadata": {},
     "output_type": "execute_result"
    }
   ],
   "source": [
    "(\n",
    "    buildings\n",
    "    [\"Floors\"]\n",
    "    .astype(int)\n",
    "    .sum()\n",
    ")"
   ]
  },
  {
   "cell_type": "markdown",
   "id": "6ffae15d-d9c3-466d-8abb-99ddecb2f2dd",
   "metadata": {},
   "source": [
    "### 11) How many of the buildings have their own Wikipedia page?\n",
    "\n",
    "For this, you'll need to query the row elements again; the information won't have been extracted into your `DataFrame`. (Hint: Whether a building has its own Wikipedia page isn't an explicit piece of data, but something you can infer from the presence of a particular sub-element.)"
   ]
  },
  {
   "cell_type": "code",
   "execution_count": 14,
   "id": "c1432c68-b0f9-4f29-82fd-bd3f3c7ffdf9",
   "metadata": {},
   "outputs": [
    {
     "data": {
      "text/plain": [
       "17"
      ]
     },
     "execution_count": 14,
     "metadata": {},
     "output_type": "execute_result"
    }
   ],
   "source": [
    "second_cells = [ row.select(\"td\")[1] for row in row_els ]\n",
    "\n",
    "sum(len(cell.select(\"a\")) > 0 for cell in second_cells)"
   ]
  },
  {
   "cell_type": "markdown",
   "id": "317eb366-55fb-446d-a105-22dffe4b9db3",
   "metadata": {},
   "source": [
    "### 12) How many have an image?\n",
    "\n",
    "You could do this by testing for the presence of another element:"
   ]
  },
  {
   "cell_type": "code",
   "execution_count": 15,
   "id": "ab25e8c3-4744-4198-9707-9845a843053e",
   "metadata": {},
   "outputs": [
    {
     "data": {
      "text/plain": [
       "56"
      ]
     },
     "execution_count": 15,
     "metadata": {},
     "output_type": "execute_result"
    }
   ],
   "source": [
    "third_cells = [ row.select(\"td\")[2] for row in row_els ]\n",
    "sum(len(cell.select(\"img\")) > 0 for cell in third_cells)"
   ]
  },
  {
   "cell_type": "markdown",
   "id": "630b88de-02df-45e4-8cf6-f15eb5507ae3",
   "metadata": {},
   "source": [
    "Or through information that's already in your `DataFrame`:"
   ]
  },
  {
   "cell_type": "code",
   "execution_count": 16,
   "id": "5434878d-7c14-405c-bb6d-5547a06d398c",
   "metadata": {},
   "outputs": [
    {
     "data": {
      "text/plain": [
       "56"
      ]
     },
     "execution_count": 16,
     "metadata": {},
     "output_type": "execute_result"
    }
   ],
   "source": [
    "(buildings[\"Image\"] != \"—\").sum()"
   ]
  },
  {
   "cell_type": "markdown",
   "id": "e3a7067b",
   "metadata": {},
   "source": [
    "### Bonus challenge\n",
    "\n",
    "If we tried to run the same code on https://en.wikipedia.org/wiki/List_of_tallest_buildings_in_New_York_City instead, the results wouldn't be quite right. Try it. Then, examining the HTML of that page, try to figure out why.\n",
    "\n",
    "If you want an extra-extra challenge, try writing code that would parse that table correctly."
   ]
  },
  {
   "cell_type": "code",
   "execution_count": 17,
   "id": "2e9ba66c",
   "metadata": {},
   "outputs": [],
   "source": [
    "# The answer is that the NYC-wide table uses the \"rowspan\" attribute,\n",
    "# for example in the rows for \"Deutsche Bank Center North Tower\"\n",
    "# and \"Deutsche Bank Center South Tower\". This leads the second of those\n",
    "# pairs of rows to *not* have the full set of cells, causing our code\n",
    "# to put their cells in the wrong columns."
   ]
  },
  {
   "cell_type": "markdown",
   "id": "fac108f8-9c41-451a-a481-f2bfde3372e5",
   "metadata": {},
   "source": [
    "---\n",
    "\n",
    "---\n",
    "\n",
    "---"
   ]
  }
 ],
 "metadata": {
  "kernelspec": {
   "display_name": "Python 3 (ipykernel)",
   "language": "python",
   "name": "python3"
  },
  "language_info": {
   "codemirror_mode": {
    "name": "ipython",
    "version": 3
   },
   "file_extension": ".py",
   "mimetype": "text/x-python",
   "name": "python",
   "nbconvert_exporter": "python",
   "pygments_lexer": "ipython3",
   "version": "3.10.4"
  }
 },
 "nbformat": 4,
 "nbformat_minor": 5
}
